{
 "cells": [
  {
   "cell_type": "markdown",
   "id": "e2d5008a-0c75-438a-afa0-0c925d15df4c",
   "metadata": {},
   "source": [
    "#  Practical Assignment 3"
   ]
  },
  {
   "cell_type": "markdown",
   "id": "6e064601-6045-40bc-a96b-78fcf49363e8",
   "metadata": {},
   "source": [
    "# Basic Set Programs"
   ]
  },
  {
   "cell_type": "code",
   "execution_count": null,
   "id": "b13c368c-46c2-4b4f-a9dd-7bcf828aa183",
   "metadata": {},
   "outputs": [],
   "source": [
    "1.Create  a set ans display its element"
   ]
  },
  {
   "cell_type": "code",
   "execution_count": 3,
   "id": "4b93e676-9f77-46c2-b563-e696ac5cf38c",
   "metadata": {},
   "outputs": [
    {
     "name": "stdout",
     "output_type": "stream",
     "text": [
      "Elements of the set : {1, 2, 3, 4, 5}\n"
     ]
    }
   ],
   "source": [
    "my_set = {1,2,3,4,5}\n",
    "print(\"Elements of the set :\",my_set)"
   ]
  },
  {
   "cell_type": "code",
   "execution_count": null,
   "id": "4904ef16-74a1-4348-b1af-7da01d97ed03",
   "metadata": {},
   "outputs": [],
   "source": [
    "2.Add an element to a set "
   ]
  },
  {
   "cell_type": "code",
   "execution_count": 7,
   "id": "1a07be60-7fa8-4310-a4cf-d33eed6cb133",
   "metadata": {},
   "outputs": [
    {
     "name": "stdout",
     "output_type": "stream",
     "text": [
      "{1, 2, 3, 4}\n",
      "{1, 2, 3, 4}\n"
     ]
    }
   ],
   "source": [
    "my_set = {1,2,3}\n",
    "my_set.add(4)\n",
    "print(my_set)\n",
    "my_set.add(2)\n",
    "print(my_set)"
   ]
  },
  {
   "cell_type": "code",
   "execution_count": null,
   "id": "8d62a659-830e-4110-90fb-8d5bd0e758bc",
   "metadata": {},
   "outputs": [],
   "source": [
    "3.Remove an element from a set"
   ]
  },
  {
   "cell_type": "code",
   "execution_count": 19,
   "id": "ab366ae0-f8df-4be9-9681-4808d381a3ab",
   "metadata": {},
   "outputs": [
    {
     "name": "stdout",
     "output_type": "stream",
     "text": [
      "{1, 2, 4, 5}\n"
     ]
    }
   ],
   "source": [
    "my_set = {1,2,3,4,5}\n",
    "my_set.remove(3)\n",
    "print(my_set)\n"
   ]
  },
  {
   "cell_type": "markdown",
   "id": "981e4cc2-958b-46bc-b476-7ee4a6a97a1c",
   "metadata": {},
   "source": [
    "4.Clear all elements from a set"
   ]
  },
  {
   "cell_type": "code",
   "execution_count": 21,
   "id": "48dd3c60-7344-4a97-b072-56bd06cc9dcd",
   "metadata": {},
   "outputs": [
    {
     "name": "stdout",
     "output_type": "stream",
     "text": [
      "set()\n"
     ]
    }
   ],
   "source": [
    "my_set = {\"apple\",\"banana\",\"cherry\"}\n",
    "my_set.clear()\n",
    "print(my_set)"
   ]
  },
  {
   "cell_type": "code",
   "execution_count": null,
   "id": "2e50254f-915a-4a34-96b6-d18517ff5e50",
   "metadata": {},
   "outputs": [],
   "source": [
    "5.Copy a set to another set"
   ]
  },
  {
   "cell_type": "code",
   "execution_count": 33,
   "id": "a6d9df44-69c3-4be3-96b2-81148fad9234",
   "metadata": {},
   "outputs": [
    {
     "name": "stdout",
     "output_type": "stream",
     "text": [
      "{1, 2, 3, 4}\n",
      "{1, 2, 3, 4, 5}\n"
     ]
    }
   ],
   "source": [
    "original_set = {1,2,3,4}\n",
    "copied_set = original_set.copy()\n",
    "copied_set.add(5)\n",
    "print(original_set)\n",
    "print(copied_set)"
   ]
  },
  {
   "cell_type": "markdown",
   "id": "fbe90f2a-939a-427e-89a9-357657bd21ce",
   "metadata": {},
   "source": [
    "6.Check if an element exists in a set"
   ]
  },
  {
   "cell_type": "code",
   "execution_count": 37,
   "id": "10e6d409-26f3-4293-b764-3da60b269101",
   "metadata": {},
   "outputs": [
    {
     "name": "stdout",
     "output_type": "stream",
     "text": [
      "6. Is 20 in the set? False\n"
     ]
    }
   ],
   "source": [
    "print(\"6. Is 20 in the set?\",20 in my_set)"
   ]
  },
  {
   "cell_type": "code",
   "execution_count": null,
   "id": "80f139e0-a07a-4f2d-a21c-6c5decb96941",
   "metadata": {},
   "outputs": [],
   "source": [
    "7.Find the length of set"
   ]
  },
  {
   "cell_type": "code",
   "execution_count": 39,
   "id": "b8649f65-2cf5-42b1-9bb2-67115d0f8716",
   "metadata": {},
   "outputs": [
    {
     "name": "stdout",
     "output_type": "stream",
     "text": [
      "7. Length of the set: 0\n"
     ]
    }
   ],
   "source": [
    "print(\"7. Length of the set:\",len(my_set))"
   ]
  },
  {
   "cell_type": "code",
   "execution_count": null,
   "id": "44e032c7-1fda-47a8-8353-650cb7fae934",
   "metadata": {},
   "outputs": [],
   "source": [
    "8.Iterate through a set using a loop"
   ]
  },
  {
   "cell_type": "code",
   "execution_count": 41,
   "id": "ffe4d07b-7499-4d04-bbb2-c100f15b6fe7",
   "metadata": {},
   "outputs": [
    {
     "name": "stdout",
     "output_type": "stream",
     "text": [
      "8.Iterating through the set:\n"
     ]
    }
   ],
   "source": [
    "print(\"8.Iterating through the set:\")\n",
    "for element in my_set:\n",
    "    print(element)"
   ]
  },
  {
   "cell_type": "markdown",
   "id": "713a0698-c263-40c0-b871-bfbc98dcc9fb",
   "metadata": {},
   "source": [
    "# Set operations"
   ]
  },
  {
   "cell_type": "code",
   "execution_count": 52,
   "id": "c788a067-519d-48f3-905c-0f33572a6ee5",
   "metadata": {},
   "outputs": [
    {
     "name": "stdout",
     "output_type": "stream",
     "text": [
      "Union of A and B: {1, 2, 3, 4, 5, 6}\n"
     ]
    }
   ],
   "source": [
    " set_a = {1,2,3,4}\n",
    " set_b = {3,4,5,6}\n",
    "union_set = set_a | set_b\n",
    "print(\"Union of A and B:\",union_set)"
   ]
  },
  {
   "cell_type": "code",
   "execution_count": 56,
   "id": "4ed4521e-8689-4966-b31e-d3a89226712c",
   "metadata": {},
   "outputs": [
    {
     "name": "stdout",
     "output_type": "stream",
     "text": [
      "Intersection of A and B: {3, 4}\n"
     ]
    }
   ],
   "source": [
    "intersection_set = set_a & set_b\n",
    "print(\"Intersection of A and B:\" ,intersection_set)"
   ]
  },
  {
   "cell_type": "code",
   "execution_count": 58,
   "id": "a6181946-41a9-4c52-b699-24dbf85c1149",
   "metadata": {},
   "outputs": [
    {
     "name": "stdout",
     "output_type": "stream",
     "text": [
      "Difference(A - B) {1, 2}\n"
     ]
    }
   ],
   "source": [
    "difference_set = set_a - set_b\n",
    "print(\"Difference(A - B)\",difference_set)"
   ]
  },
  {
   "cell_type": "code",
   "execution_count": 60,
   "id": "f8ec2763-77ac-4877-ab12-3e9c14a953dd",
   "metadata": {},
   "outputs": [
    {
     "name": "stdout",
     "output_type": "stream",
     "text": [
      "Symmetric Differnce of A and B {1, 2, 5, 6}\n"
     ]
    }
   ],
   "source": [
    "sym_diff_set = set_a^ set_b\n",
    "print(\"Symmetric Differnce of A and B\",sym_diff_set)"
   ]
  },
  {
   "cell_type": "code",
   "execution_count": 62,
   "id": "e5546bfd-b0f6-4bd8-9afc-8be4ba4833b4",
   "metadata": {},
   "outputs": [
    {
     "name": "stdout",
     "output_type": "stream",
     "text": [
      "Is {1,2} a subset of A? True\n"
     ]
    }
   ],
   "source": [
    "subset_result = {1,2}.issubset(set_a)\n",
    "print(\"Is {1,2} a subset of A?\",subset_result)"
   ]
  },
  {
   "cell_type": "code",
   "execution_count": 68,
   "id": "b08d32d0-3fef-47e9-bfe7-1327e1c6a311",
   "metadata": {},
   "outputs": [
    {
     "name": "stdout",
     "output_type": "stream",
     "text": [
      "Is A a superset of {1,2}? True\n"
     ]
    }
   ],
   "source": [
    "superset_result = set_a.issuperset({1,2})\n",
    "print(\"Is A a superset of {1,2}?\",superset_result)"
   ]
  },
  {
   "cell_type": "code",
   "execution_count": 70,
   "id": "6a75fa53-32ea-4150-9c4e-2981889e3a7a",
   "metadata": {},
   "outputs": [
    {
     "name": "stdout",
     "output_type": "stream",
     "text": [
      "Are A and {7,8}disjoint? True\n"
     ]
    }
   ],
   "source": [
    "disjoint_result = set_a.isdisjoint({7,8})\n",
    "print(\"Are A and {7,8}disjoint?\",disjoint_result)"
   ]
  },
  {
   "cell_type": "markdown",
   "id": "35727edc-5b8d-4214-b327-537dd3779913",
   "metadata": {},
   "source": [
    "# Set Applications"
   ]
  },
  {
   "cell_type": "code",
   "execution_count": 73,
   "id": "73b979f9-5b76-40f4-a6aa-f82e6cc8692f",
   "metadata": {},
   "outputs": [
    {
     "name": "stdout",
     "output_type": "stream",
     "text": [
      "List without duplicates: [1, 2, 3, 4, 5]\n"
     ]
    }
   ],
   "source": [
    "list_with_duplicates = [1,2,2,3,4,4,5]\n",
    "unique_list = list(set(list_with_duplicates))\n",
    "print(\"List without duplicates:\",unique_list)"
   ]
  },
  {
   "cell_type": "code",
   "execution_count": 75,
   "id": "26aa868a-2c92-4768-82c1-10cb1ed4b96b",
   "metadata": {},
   "outputs": [
    {
     "name": "stdout",
     "output_type": "stream",
     "text": [
      "List->set -> List: [40, 10, 20, 30]\n"
     ]
    }
   ],
   "source": [
    "original_list = [10,20,30,40]\n",
    "converted_set = set(original_list)\n",
    "converted_back_list = list(converted_set)\n",
    "print(\"List->set -> List:\",converted_back_list)"
   ]
  },
  {
   "cell_type": "code",
   "execution_count": 77,
   "id": "d962700a-f8f2-4bfb-9579-5538c8c6b8d3",
   "metadata": {},
   "outputs": [
    {
     "name": "stdout",
     "output_type": "stream",
     "text": [
      "common elements in both lists [3, 4]\n"
     ]
    }
   ],
   "source": [
    "list1 = [1,2,3,4]\n",
    "list2 = [3,4,5,6]\n",
    "common_elements = list(set(list1) & set(list2))\n",
    "print(\"common elements in both lists\",common_elements)"
   ]
  },
  {
   "cell_type": "code",
   "execution_count": 81,
   "id": "46483b68-bbde-4241-9d05-a6b5ab1c87c7",
   "metadata": {},
   "outputs": [
    {
     "name": "stdout",
     "output_type": "stream",
     "text": [
      "Elements in list1 but not in list2: [1, 2]\n"
     ]
    }
   ],
   "source": [
    "unique_to_list1 = list(set(list1)-set(list2))\n",
    "\n",
    "print(\"Elements in list1 but not in list2:\",unique_to_list1)"
   ]
  },
  {
   "cell_type": "code",
   "execution_count": 83,
   "id": "3e3b4658-13e9-48a6-9dea-48a411174b53",
   "metadata": {},
   "outputs": [
    {
     "name": "stdout",
     "output_type": "stream",
     "text": [
      "Set of sqaures from 1 to 5 {1, 4, 9, 16, 25}\n"
     ]
    }
   ],
   "source": [
    "squares_set = {x**2 for x in range(1,6)}\n",
    "print(\"Set of sqaures from 1 to 5\",squares_set)"
   ]
  },
  {
   "cell_type": "markdown",
   "id": "73226708-9e5b-4444-bce0-251951a10a36",
   "metadata": {},
   "source": [
    "# Frozen set program"
   ]
  },
  {
   "cell_type": "code",
   "execution_count": null,
   "id": "5e166c4f-1c3e-4058-8ff7-f05128e8a22a",
   "metadata": {},
   "outputs": [],
   "source": [
    "my_frozenset = frozenset([1,2,3,4,5])\n",
    "print(\"Frozen\",my_frozenset)"
   ]
  }
 ],
 "metadata": {
  "kernelspec": {
   "display_name": "Python [conda env:base] *",
   "language": "python",
   "name": "conda-base-py"
  },
  "language_info": {
   "codemirror_mode": {
    "name": "ipython",
    "version": 3
   },
   "file_extension": ".py",
   "mimetype": "text/x-python",
   "name": "python",
   "nbconvert_exporter": "python",
   "pygments_lexer": "ipython3",
   "version": "3.12.7"
  }
 },
 "nbformat": 4,
 "nbformat_minor": 5
}
