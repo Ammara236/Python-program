{
 "cells": [
  {
   "cell_type": "markdown",
   "id": "50cc8f9a-6472-440b-9090-5efc00ceb6d0",
   "metadata": {},
   "source": [
    "1. store and display student information (name,age,grade)."
   ]
  },
  {
   "cell_type": "code",
   "execution_count": 1,
   "id": "eebfcdd1-e33d-4ddd-bd53-a0e3196c541c",
   "metadata": {},
   "outputs": [
    {
     "name": "stdout",
     "output_type": "stream",
     "text": [
      "Name: Alice, Age: 16, Grade: A\n",
      "Name: Bob, Age: 17, Grade: B\n",
      "Name: Charlie, Age: 16, Grade: C\n"
     ]
    }
   ],
   "source": [
    "def display_student_info(students):\n",
    "    for student in students:\n",
    "        name, age, grade = student\n",
    "        print(f\"Name: {name}, Age: {age}, Grade: {grade}\")\n",
    "\n",
    "students_data = [\n",
    "    (\"Alice\", 16, \"A\"),\n",
    "    (\"Bob\", 17, \"B\"),\n",
    "    (\"Charlie\", 16, \"C\"),\n",
    "]\n",
    "\n",
    "display_student_info(students_data)"
   ]
  },
  {
   "cell_type": "markdown",
   "id": "257d89e2-744b-4a4d-aea1-60a530f8bc8c",
   "metadata": {},
   "source": [
    "2.list prices of grocery items and total them."
   ]
  },
  {
   "cell_type": "code",
   "execution_count": 5,
   "id": "49d9a2dc-f240-4791-a7a5-363b91752a0a",
   "metadata": {},
   "outputs": [
    {
     "name": "stdout",
     "output_type": "stream",
     "text": [
      "Grocery Prices:\n",
      "Milk: $2.50\n",
      "Bread: $1.75\n",
      "Eggs: $3.00\n",
      "Cheese: $4.50\n",
      "Apples: $2.00\n",
      "\n",
      "Total cost: $13.75\n"
     ]
    }
   ],
   "source": [
    "grocery_items = (\n",
    "    (\"Milk\", 2.50),\n",
    "    (\"Bread\", 1.75),\n",
    "    (\"Eggs\", 3.00),\n",
    "    (\"Cheese\", 4.50),\n",
    "    (\"Apples\", 2.00)\n",
    ")\n",
    "\n",
    "total_cost = 0\n",
    "\n",
    "print(\"Grocery Prices:\")\n",
    "for item, price in grocery_items:\n",
    "    print(f\"{item}: ${price:.2f}\")\n",
    "    total_cost += price\n",
    "\n",
    "print(f\"\\nTotal cost: ${total_cost:.2f}\")"
   ]
  },
  {
   "cell_type": "markdown",
   "id": "b9b07ecc-2552-4f64-b173-4dd79097ee58",
   "metadata": {},
   "source": [
    "3.pair items with prices using tuples.\n",
    "(\"milk\",15),(\"eggs\" ,50), (\"bread\" ,20)"
   ]
  },
  {
   "cell_type": "code",
   "execution_count": 6,
   "id": "89430dc9-4857-4248-a888-9060fef7fbd6",
   "metadata": {},
   "outputs": [
    {
     "name": "stdout",
     "output_type": "stream",
     "text": [
      "milk: $15\n",
      "eggs: $50\n",
      "bread: $20\n"
     ]
    }
   ],
   "source": [
    "items = [\n",
    "    (\"milk\", 15),\n",
    "    (\"eggs\", 50),\n",
    "    (\"bread\", 20)\n",
    "]\n",
    "\n",
    "# Accessing elements\n",
    "for item, price in items:\n",
    "    print(f\"{item}: ${price}\")"
   ]
  },
  {
   "cell_type": "markdown",
   "id": "898ca01c-ec2d-4764-9147-40d5e4322a69",
   "metadata": {},
   "source": [
    "4. store and display train schedule as tuples.\n",
    "(\"rajdhani,\" \"10:00\"),(\"shatabdi\", \"12:30\"), (\"duronto\", \"17:00\")"
   ]
  },
  {
   "cell_type": "code",
   "execution_count": null,
   "id": "a2a82b8e-bbe2-44c7-adf1-e906b1434df4",
   "metadata": {},
   "outputs": [],
   "source": []
  },
  {
   "cell_type": "markdown",
   "id": "70257a97-9f9f-4c5a-9677-5711cc356288",
   "metadata": {},
   "source": [
    "5. sort employee records by salary.\n",
    "(\"john\",40000),(\"alice\",55000),(\"raj\",30000)"
   ]
  },
  {
   "cell_type": "code",
   "execution_count": 11,
   "id": "4c5b347e-8f2a-44ae-bbab-618075d60dbf",
   "metadata": {},
   "outputs": [
    {
     "name": "stdout",
     "output_type": "stream",
     "text": [
      "[('john', 40000), ('raj', 45000), ('alice', 55000)]\n"
     ]
    }
   ],
   "source": [
    "employee_records = [\n",
    "    (\"john\", 40000),\n",
    "    (\"alice\", 55000),\n",
    "    (\"raj\", 45000)\n",
    "\n",
    "]\n",
    "sorted_employees = sorted(employee_records, key=lambda item: item[1])\n",
    "\n",
    "print(sorted_employees)\n"
   ]
  },
  {
   "cell_type": "markdown",
   "id": "f3cb0502-7495-4df4-8aaf-46bc5a366c21",
   "metadata": {},
   "source": [
    "6. count how many students scored above 75 marks.\n",
    "marks=(67,88,92,74,76,55)"
   ]
  },
  {
   "cell_type": "code",
   "execution_count": null,
   "id": "fe1de4b7-a85e-4ac8-a03d-2e1229ebdfd0",
   "metadata": {},
   "outputs": [],
   "source": []
  }
 ],
 "metadata": {
  "kernelspec": {
   "display_name": "Python 3 (ipykernel)",
   "language": "python",
   "name": "python3"
  },
  "language_info": {
   "codemirror_mode": {
    "name": "ipython",
    "version": 3
   },
   "file_extension": ".py",
   "mimetype": "text/x-python",
   "name": "python",
   "nbconvert_exporter": "python",
   "pygments_lexer": "ipython3",
   "version": "3.12.7"
  }
 },
 "nbformat": 4,
 "nbformat_minor": 5
}
